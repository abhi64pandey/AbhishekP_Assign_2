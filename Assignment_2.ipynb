{
 "cells": [
  {
   "cell_type": "raw",
   "id": "f674ecb3",
   "metadata": {},
   "source": [
    "Q1 - What are the two values of the Boolean data type? How do you write them?\n",
    "\n",
    "Solution:\n",
    "\n",
    "The two values of the Boolean data type are True and False. Generlly it is used to represent the the truth of the expressions.\n",
    "Eg: 2==1+1 is True whereas 2<1 is False.\n",
    "We write them using capital T and F, with rest of the word in lowercase."
   ]
  },
  {
   "cell_type": "code",
   "execution_count": null,
   "id": "753cdf3c",
   "metadata": {},
   "outputs": [],
   "source": [
    "Q2 - What are the three different types of Boolean operators?\n",
    "\n",
    "Solution:\n",
    "\n",
    "The different types of Boolean operators are and, or and not."
   ]
  },
  {
   "cell_type": "code",
   "execution_count": null,
   "id": "bea300bf",
   "metadata": {},
   "outputs": [],
   "source": [
    "Q3 - Make a list of each Boolean operator's truth tables \n",
    "(i.e. every possible combination of Boolean values for the operator and what it evaluate ).\n",
    "\n",
    "Solution:\n",
    "\n",
    "The Different type of truth tables for Boolean operators are as follows:"
   ]
  },
  {
   "cell_type": "code",
   "execution_count": null,
   "id": "a111ccfd",
   "metadata": {},
   "outputs": [],
   "source": [
    "For AND: \n",
    "    00 - 0 - False\n",
    "    01 - 0 - False\n",
    "    10 - 0 - False\n",
    "    11 - 1 - True"
   ]
  },
  {
   "cell_type": "code",
   "execution_count": null,
   "id": "a69d5ed3",
   "metadata": {},
   "outputs": [],
   "source": [
    "For OR: \n",
    "    00 - 0 - False\n",
    "    01 - 1 - True\n",
    "    10 - 1 - True\n",
    "    11 - 1 - True"
   ]
  },
  {
   "cell_type": "code",
   "execution_count": null,
   "id": "9d857d82",
   "metadata": {},
   "outputs": [],
   "source": [
    "For NOT: \n",
    "    0 - 1 - True\n",
    "    1 - 0 - False"
   ]
  },
  {
   "cell_type": "code",
   "execution_count": null,
   "id": "e712349f",
   "metadata": {},
   "outputs": [],
   "source": [
    "Q4 - What are the values of the following expressions?\n",
    "\n",
    "Solution:\n",
    "    \n",
    "The values of the following expressions as follows:\n",
    "(5 > 4) and (3 == 5)  -- False\n",
    "not (5 > 4) -- False\n",
    "(5 > 4) or (3 == 5) -- True\n",
    "not ((5 > 4) or (3 == 5)) -- False\n",
    "(True and True) and (True == False) -- False\n",
    "(not False) or (not True) -- True"
   ]
  },
  {
   "cell_type": "code",
   "execution_count": null,
   "id": "c0dde8a4",
   "metadata": {},
   "outputs": [],
   "source": [
    "Q5 - What are the six comparison operators?\n",
    "\n",
    "Solution:\n",
    "    \n",
    "The six comparison operators are: \n",
    "less than(<)\n",
    "less than or equal to(<=)\n",
    "greater than(>)\n",
    "greater than or equal to(>=)\n",
    "equal to (==)\n",
    "not equal to (!=)"
   ]
  },
  {
   "cell_type": "code",
   "execution_count": null,
   "id": "ebc846c2",
   "metadata": {},
   "outputs": [],
   "source": [
    "Q6- How do you tell the difference between the equal to \n",
    "and assignment operators?Describe a condition and when you would use one.\n",
    "\n",
    "Solution:\n",
    "    \n",
    "==(Equal to) is a relational or Comparison Operator which checks the two given operands are equal or not.\n",
    "If so, it returns true otherwise it returms false.\n",
    "    \n",
    "=(Assignment) is a assignment operator and it is used for assigning the value to the variable.\n",
    "\n",
    "A condition is an expression used in a flow control statement that evluates to a Boolean Value."
   ]
  },
  {
   "cell_type": "code",
   "execution_count": null,
   "id": "b5b5f6ea",
   "metadata": {},
   "outputs": [],
   "source": [
    "Q7 - Identify the three blocks in this code:\n",
    "    \n",
    "spam = 0\n",
    "if spam == 10:\n",
    "print('eggs')\n",
    "if spam > 5:\n",
    "print('bacon')\n",
    "else:\n",
    "print('ham')\n",
    "print('spam')\n",
    "print('spam')\n",
    "\n",
    "\n",
    "Solution:\n",
    "\n",
    "The three blocks are everything inside the if statement and the lines print('bacon') and print('ham')  "
   ]
  },
  {
   "cell_type": "code",
   "execution_count": 19,
   "id": "754246dc",
   "metadata": {},
   "outputs": [
    {
     "name": "stdout",
     "output_type": "stream",
     "text": [
      "ham\n",
      "spam\n",
      "spam\n"
     ]
    }
   ],
   "source": [
    "spam = 2\n",
    "if spam == 10:\n",
    "    print('eggs')\n",
    "if spam > 5:\n",
    "    print('bacon')\n",
    "else:\n",
    "    print('ham')\n",
    "    print('spam')\n",
    "    print('spam')"
   ]
  },
  {
   "cell_type": "code",
   "execution_count": null,
   "id": "071b8720",
   "metadata": {},
   "outputs": [],
   "source": [
    "Q8 -  Write code that prints Hello if 1 is stored in spam, prints Howdy if 2 is stored in spam,\n",
    "and prints Greetings! if anything else is stored in spam.\n",
    "\n",
    "Solution:\n",
    "    "
   ]
  },
  {
   "cell_type": "code",
   "execution_count": 22,
   "id": "3496ae84",
   "metadata": {},
   "outputs": [
    {
     "name": "stdout",
     "output_type": "stream",
     "text": [
      "Input Value of the spam\n",
      "3\n",
      "Greetings!\n"
     ]
    }
   ],
   "source": [
    "print(\"Input Value of the spam\")\n",
    "spam = int(input())\n",
    "if spam ==1:\n",
    "    print(\"Hello\")\n",
    "elif spam == 2:\n",
    "    print(\"Howdy\")\n",
    "else:\n",
    "    print(\"Greetings!\")"
   ]
  },
  {
   "cell_type": "code",
   "execution_count": null,
   "id": "1f038b09",
   "metadata": {},
   "outputs": [],
   "source": [
    "Q9 - If your programme is stuck in an endless loop, what keys you’ll press?\n",
    "\n",
    "Solution:\n",
    "    \n",
    "We can press CTRL + C to stop the infinite/endless loop."
   ]
  },
  {
   "cell_type": "code",
   "execution_count": null,
   "id": "677844f4",
   "metadata": {},
   "outputs": [],
   "source": [
    "Q10 - How can you tell the difference between break and continue?\n",
    "\n",
    "Solution:\n",
    "\n",
    "Break statement is mainly used to terminate the enclosing loop wherever break is declared.\n",
    "Continue statement mainly skip the rest of the loop wherever continue is declared and execute the next iteration."
   ]
  },
  {
   "cell_type": "code",
   "execution_count": null,
   "id": "76067e55",
   "metadata": {},
   "outputs": [],
   "source": [
    "Q11 - In a for loop, what is the difference between range(10), range(0, 10), and range(0, 10, 1)?\n",
    "\n",
    "Solution:\n",
    "    \n",
    "The output for all the three ranges are same, but there are three ways we can call the range:\n",
    "The range(10) call ranges from 0 upto (but not including) 10, range(0,10) explicitly tells the loop to start at 0,\n",
    "and range (0,10,1) explicitly tells the loop to increase the variable by 1 on each iteration."
   ]
  },
  {
   "cell_type": "code",
   "execution_count": 29,
   "id": "26d6483b",
   "metadata": {},
   "outputs": [
    {
     "name": "stdout",
     "output_type": "stream",
     "text": [
      "0 1 2 3 4 5 6 7 8 9 "
     ]
    }
   ],
   "source": [
    "for i in range(10):\n",
    "    print(i, end =\" \")"
   ]
  },
  {
   "cell_type": "code",
   "execution_count": 30,
   "id": "9916b940",
   "metadata": {},
   "outputs": [
    {
     "name": "stdout",
     "output_type": "stream",
     "text": [
      "0 1 2 3 4 5 6 7 8 9 "
     ]
    }
   ],
   "source": [
    "for i in range(0,10):\n",
    "    print(i, end = \" \")"
   ]
  },
  {
   "cell_type": "code",
   "execution_count": 31,
   "id": "e2ea2aeb",
   "metadata": {},
   "outputs": [
    {
     "name": "stdout",
     "output_type": "stream",
     "text": [
      "0 1 2 3 4 5 6 7 8 9 "
     ]
    }
   ],
   "source": [
    "for i in range(0,10,1):\n",
    "    print(i, end = \" \")"
   ]
  },
  {
   "cell_type": "code",
   "execution_count": null,
   "id": "364345d0",
   "metadata": {},
   "outputs": [],
   "source": [
    "Q12 - Write a short program that prints the numbers 1 to 10 using a for loop. \n",
    "Then write an equivalent program that prints the numbers 1 to 10 using a while loop.\n",
    "\n",
    "Solution:  "
   ]
  },
  {
   "cell_type": "code",
   "execution_count": 33,
   "id": "dee56c03",
   "metadata": {},
   "outputs": [
    {
     "name": "stdout",
     "output_type": "stream",
     "text": [
      "1\n",
      "2\n",
      "3\n",
      "4\n",
      "5\n",
      "6\n",
      "7\n",
      "8\n",
      "9\n",
      "10\n"
     ]
    }
   ],
   "source": [
    "## By using For Loop. \n",
    "for i in range(1,11):\n",
    "    print(i)"
   ]
  },
  {
   "cell_type": "code",
   "execution_count": 36,
   "id": "3c5d954e",
   "metadata": {},
   "outputs": [
    {
     "name": "stdout",
     "output_type": "stream",
     "text": [
      "1\n",
      "2\n",
      "3\n",
      "4\n",
      "5\n",
      "6\n",
      "7\n",
      "8\n",
      "9\n",
      "10\n"
     ]
    }
   ],
   "source": [
    "## By using While Loop.\n",
    "a=1\n",
    "while a<=10:\n",
    "    print(a)\n",
    "    a = a+1"
   ]
  },
  {
   "cell_type": "code",
   "execution_count": null,
   "id": "60496921",
   "metadata": {},
   "outputs": [],
   "source": [
    "Q13 -  If you had a function named bacon() inside a module named spam, how would you call it after importing spam?\n",
    "\n",
    "Solution:\n",
    "\n",
    "The function can be called with\n",
    "spam.bacon()."
   ]
  }
 ],
 "metadata": {
  "kernelspec": {
   "display_name": "Python 3 (ipykernel)",
   "language": "python",
   "name": "python3"
  },
  "language_info": {
   "codemirror_mode": {
    "name": "ipython",
    "version": 3
   },
   "file_extension": ".py",
   "mimetype": "text/x-python",
   "name": "python",
   "nbconvert_exporter": "python",
   "pygments_lexer": "ipython3",
   "version": "3.9.7"
  }
 },
 "nbformat": 4,
 "nbformat_minor": 5
}
